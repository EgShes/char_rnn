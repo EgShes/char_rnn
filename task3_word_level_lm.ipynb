{
 "cells": [
  {
   "cell_type": "markdown",
   "metadata": {},
   "source": [
    "## Word-level language model\n",
    "\n",
    "In the previous tasks you have written character-level language model. Time has come to grow up.\n",
    "\n",
    "Word language models face a lot of new problems for you to solve. There are some of them:\n",
    "  * How to read long texts (Gbs of data)\n",
    "  * How to build vocabulry (and to effectively reduce its size)\n",
    "  * How to deal with out-of-vocabulary (OOV) words\n",
    "  * How to construct batch of _uncorrelated_ examples (not from the same text)\n",
    "  * How and when to drop RNN state\n",
    "  * What special tokens should be used? BOS? EOS?\n",
    "\n",
    "**Results of this task:**\n",
    "  * Text preprocessing\n",
    "  * Batcher\n",
    "  * Trained language model:\n",
    "    * model should use truncated backpropagation through time\n",
    "    * model should drop RNN state between different documents (eg. wikipedia articles)\n",
    "  * Test set perplexity\n",
    "\n",
    "**Additional points:**\n",
    "  * Text preprocessing and batching that works with large files (does not load all the file to memory)\n",
    "  * AWD-LSTM or other uncommon RNN architectures (SRU, QRNN)\n",
    "  * Use popular dataset \n",
    "\n",
    "It is becoming common to use [byte-pair encoding](https://github.com/google/sentencepiece) to solve vocabulary problem. Use it! Here is an [example](https://github.com/google/sentencepiece/blob/master/python/sentencepiece_python_module_example.ipynb)."
   ]
  },
  {
   "cell_type": "code",
   "execution_count": 1,
   "metadata": {},
   "outputs": [],
   "source": [
    "import torch\n",
    "from torch.utils.data import Dataset, DataLoader\n",
    "from torch.nn.utils.rnn import pad_sequence, pack_padded_sequence, pad_packed_sequence\n",
    "from torch.nn import Module, Embedding, GRU, Linear, Dropout\n",
    "import torch.nn.functional as F\n",
    "\n",
    "import numpy as np\n",
    "import matplotlib.pyplot as plt\n",
    "\n",
    "from collections import Counter\n",
    "\n",
    "from tqdm import tqdm\n",
    "import re\n",
    "from operator import itemgetter "
   ]
  },
  {
   "cell_type": "markdown",
   "metadata": {},
   "source": [
    "Data is news in russian language. Data was taken from https://github.com/maxoodf/russian_news_corpus."
   ]
  },
  {
   "cell_type": "code",
   "execution_count": 2,
   "metadata": {
    "scrolled": false
   },
   "outputs": [],
   "source": [
    "with open('russian_news_orig.txt', 'r'):\n",
    "    corpus = f.read().split('\\n')"
   ]
  },
  {
   "cell_type": "code",
   "execution_count": 3,
   "metadata": {},
   "outputs": [
    {
     "name": "stdout",
     "output_type": "stream",
     "text": [
      "N articles: 1449368\n"
     ]
    },
    {
     "data": {
      "image/png": "[encoded data removed]",
      "text/plain": [
       "<Figure size 432x288 with 1 Axes>"
      ]
     },
     "metadata": {
      "needs_background": "light"
     },
     "output_type": "display_data"
    }
   ],
   "source": [
    "print('N articles:', len(corpus))\n",
    "\n",
    "plt.hist([len(i.split(' ')) for i in corpus], range(0, 1000))\n",
    "plt.xlabel('N words in article')\n",
    "plt.ylabel('N articles')\n",
    "plt.show()"
   ]
  },
  {
   "cell_type": "code",
   "execution_count": 4,
   "metadata": {},
   "outputs": [],
   "source": [
    "short_corpus = corpus[:2000]"
   ]
  },
  {
   "cell_type": "markdown",
   "metadata": {},
   "source": [
    "### Data processing"
   ]
  },
  {
   "cell_type": "code",
   "execution_count": 5,
   "metadata": {},
   "outputs": [],
   "source": [
    "def process_corpus(corpus, min_sent_len=3):\n",
    "    \"\"\"\n",
    "    input: list of articles\n",
    "    output: list of sentences\n",
    "    \"\"\"\n",
    "    proc_corpus = []\n",
    "    with tqdm(total=len(corpus)) as pbar:\n",
    "        for text in corpus:\n",
    "            sentences = text.split('.')\n",
    "            proc_sentences = [['<bos>'] + re.sub(r'[^\\w\\s]', '', sent).split(' ') + ['<eos>'] \n",
    "                              for sent in sentences]\n",
    "            proc_corpus += [sent for sent in proc_sentences if len(sent) > min_sent_len]\n",
    "            pbar.update(1)\n",
    "        \n",
    "    return proc_corpus"
   ]
  },
  {
   "cell_type": "code",
   "execution_count": 6,
   "metadata": {},
   "outputs": [
    {
     "name": "stderr",
     "output_type": "stream",
     "text": [
      "100%|██████████| 2000/2000 [00:00<00:00, 9688.58it/s]\n"
     ]
    }
   ],
   "source": [
    "sentences = process_corpus(short_corpus)"
   ]
  },
  {
   "cell_type": "code",
   "execution_count": 7,
   "metadata": {},
   "outputs": [
    {
     "name": "stdout",
     "output_type": "stream",
     "text": [
      "N sentences: 59752\n"
     ]
    },
    {
     "data": {
      "image/png": "[encoded data removed]",
      "text/plain": [
       "<Figure size 432x288 with 1 Axes>"
      ]
     },
     "metadata": {
      "needs_background": "light"
     },
     "output_type": "display_data"
    }
   ],
   "source": [
    "print('N sentences:', len(sentences))\n",
    "\n",
    "plt.hist([len(i) for i in sentences], range(0, 80))\n",
    "plt.xlabel('N words in sentence')\n",
    "plt.ylabel('N sentences')\n",
    "plt.show()"
   ]
  },
  {
   "cell_type": "code",
   "execution_count": 8,
   "metadata": {},
   "outputs": [
    {
     "data": {
      "text/plain": [
       "[['<bos>',\n",
       "  'ru',\n",
       "  'мид',\n",
       "  'еще',\n",
       "  'раз',\n",
       "  'напомнил',\n",
       "  'что',\n",
       "  'россия',\n",
       "  'асада',\n",
       "  'не',\n",
       "  'поддерживает',\n",
       "  '<eos>'],\n",
       " ['<bos>',\n",
       "  '',\n",
       "  'российская',\n",
       "  'военная',\n",
       "  'операция',\n",
       "  'в',\n",
       "  'сирии',\n",
       "  'не',\n",
       "  'направлена',\n",
       "  'на',\n",
       "  'поддержку',\n",
       "  'президента',\n",
       "  'башара',\n",
       "  'асада',\n",
       "  'заявила',\n",
       "  'официальный',\n",
       "  'представитель',\n",
       "  'мид',\n",
       "  'рф',\n",
       "  'мария',\n",
       "  'захарова',\n",
       "  '<eos>']]"
      ]
     },
     "execution_count": 8,
     "metadata": {},
     "output_type": "execute_result"
    }
   ],
   "source": [
    "sentences[:2]"
   ]
  },
  {
   "cell_type": "code",
   "execution_count": 9,
   "metadata": {},
   "outputs": [],
   "source": [
    "class Vocabulary:\n",
    "    def fit(self, sentences, max_vocab=50000):\n",
    "        c = Counter([word for sent in sentences for word in sent])\n",
    "        freq_sorted = sorted(c.items(), key=lambda item: item[1], reverse=True)\n",
    "        self._vocab = ['<pad>', '<unk>'] + [word for word, _ in freq_sorted[:max_vocab - 2]]\n",
    "        self._w2i = {w: i for i, w in enumerate(self._vocab)}\n",
    "        del c, freq_sorted\n",
    "        return self\n",
    "\n",
    "    def __len__(self):\n",
    "        return len(self._vocab)\n",
    "\n",
    "    def transform(self, sent, remove_empty_srtings=True):\n",
    "        proc_sent = []\n",
    "        for word in sent:\n",
    "            if remove_empty_srtings and word == '':\n",
    "                continue\n",
    "            proc_sent.append(self._w2i[word] if word in self._w2i else self._w2i['<unk>'])\n",
    "        return proc_sent\n",
    "        \n",
    "    def w2i(self, word):\n",
    "        return self._w2i[word] if word in self._w2i else self._w2i['<unk>']"
   ]
  },
  {
   "cell_type": "code",
   "execution_count": 10,
   "metadata": {},
   "outputs": [
    {
     "data": {
      "text/plain": [
       "<__main__.Vocabulary at 0x7f278bece5c0>"
      ]
     },
     "execution_count": 10,
     "metadata": {},
     "output_type": "execute_result"
    }
   ],
   "source": [
    "voc = Vocabulary()\n",
    "voc.fit(sentences)"
   ]
  },
  {
   "cell_type": "code",
   "execution_count": 11,
   "metadata": {},
   "outputs": [],
   "source": [
    "class MyDataset(Dataset):\n",
    "    \n",
    "    def __init__(self, sentences, max_vocab=50000, vocab=None):\n",
    "        self.sents = sentences\n",
    "        if vocab:\n",
    "            self.vocab = vocab\n",
    "        else:\n",
    "            self.vocab = Vocabulary()\n",
    "            self.vocab.fit(self.sents, max_vocab=max_vocab)\n",
    "        \n",
    "    def __len__(self):\n",
    "        return len(self.sents)\n",
    "    \n",
    "    def __getitem__(self, index):\n",
    "        item = self.vocab.transform(self.sents[index])\n",
    "        x = torch.LongTensor(item[:-1])\n",
    "        y = torch.LongTensor(item[1:])\n",
    "        return x, y"
   ]
  },
  {
   "cell_type": "code",
   "execution_count": 12,
   "metadata": {},
   "outputs": [],
   "source": [
    "def pad_batch(batch, maxlen=50):\n",
    "    lengths = [min(len(i[0]), maxlen) for i in batch]\n",
    "    \n",
    "    batch = [i[1] for i in sorted(zip(lengths, batch), key=lambda x: x[0], reverse=True)]\n",
    "    lengths = torch.LongTensor(sorted(lengths, reverse=True))\n",
    "    \n",
    "    x = pad_sequence([i[0][:maxlen] for i in batch], batch_first=True)\n",
    "    y = pad_sequence([i[1][:maxlen] for i in batch], batch_first=True)\n",
    "    return (x, y), lengths"
   ]
  },
  {
   "cell_type": "markdown",
   "metadata": {},
   "source": [
    "Check loder implementation"
   ]
  },
  {
   "cell_type": "code",
   "execution_count": 13,
   "metadata": {},
   "outputs": [],
   "source": [
    "t = MyDataset(sentences)"
   ]
  },
  {
   "cell_type": "code",
   "execution_count": 14,
   "metadata": {},
   "outputs": [],
   "source": [
    "loader = DataLoader(t, 10, collate_fn=pad_batch)"
   ]
  },
  {
   "cell_type": "code",
   "execution_count": 15,
   "metadata": {
    "scrolled": false
   },
   "outputs": [
    {
     "name": "stdout",
     "output_type": "stream",
     "text": [
      "torch.Size([10, 29]) tensor([29, 23, 20, 19, 15, 14, 13, 13, 11,  5])\n",
      "tensor([[    3,    30,  7478,  5917, 34629,   271,   147,  9341,     9,    41,\n",
      "          7479,   172,    17,   387,  7479,   456, 34630, 21473,   706,     6,\n",
      "          1626,     6, 10158,   299, 21474,  3956, 34631,  4834,    65],\n",
      "        [    3,   110,    87,   172,   277,    96,     9,     7,   827,   702,\n",
      "           241,     6,  5067,     5,   277,    23,   429,    75,  2658,   430,\n",
      "             7,  3460,  1446,     0,     0,     0,     0,     0,     0],\n",
      "        [    3,   486,  8036,  3054,     5,   277,     8,  6273,     7,   890,\n",
      "           204,  5607,  2290,  1013,   936,   284,   465,    83,  1062,  1474,\n",
      "             0,     0,     0,     0,     0,     0,     0,     0,     0],\n",
      "        [    3, 11143, 34632,   669,    10, 34633,     6,  8614, 15715,     5,\n",
      "            47,   160,     6,    10, 34634, 13784,   560,   152,    86,     0,\n",
      "             0,     0,     0,     0,     0,     0,     0,     0,     0],\n",
      "        [    3,   220,  1626,     6,  6646,  4248,  3253,     9,  1147,    27,\n",
      "          6647,     7,   375,  2749,  1860,     0,     0,     0,     0,     0,\n",
      "             0,     0,     0,     0,     0,     0,     0,     0,     0],\n",
      "        [    3,   281,    61,   327,  1124,    21, 10159,  6276, 15714,   295,\n",
      "          9342, 12327,     5,  2748,     0,     0,     0,     0,     0,     0,\n",
      "             0,     0,     0,     0,     0,     0,     0,     0,     0],\n",
      "        [    3,    11,    62,    93,  6274,    46,     8,  1684,  1762,  1041,\n",
      "            12,  1041,  2194,     0,     0,     0,     0,     0,     0,     0,\n",
      "             0,     0,     0,     0,     0,     0,     0,     0,     0],\n",
      "        [    3,   187,   993,  6275, 11141, 11142, 18138,     1,    49,   669,\n",
      "            10,  1047,   277,     0,     0,     0,     0,     0,     0,     0,\n",
      "             0,     0,     0,     0,     0,     0,     0,     0,     0],\n",
      "        [    3,   151,   465,    50,   101,  1240,     9,   128,  2290,     8,\n",
      "          2098,     0,     0,     0,     0,     0,     0,     0,     0,     0,\n",
      "             0,     0,     0,     0,     0,     0,     0,     0,     0],\n",
      "        [    3,     1,  9343,   363,    61,     0,     0,     0,     0,     0,\n",
      "             0,     0,     0,     0,     0,     0,     0,     0,     0,     0,\n",
      "             0,     0,     0,     0,     0,     0,     0,     0,     0]])\n"
     ]
    }
   ],
   "source": [
    "for (x, y), lengths in loader:\n",
    "    print(x.shape, lengths)\n",
    "    print(x)\n",
    "    break"
   ]
  },
  {
   "cell_type": "markdown",
   "metadata": {},
   "source": [
    "Split data and make datasets"
   ]
  },
  {
   "cell_type": "code",
   "execution_count": 16,
   "metadata": {},
   "outputs": [
    {
     "name": "stdout",
     "output_type": "stream",
     "text": [
      "train len 41826\n",
      "val len 5975\n",
      "test len 11951\n"
     ]
    }
   ],
   "source": [
    "l = len(sentences)\n",
    "shuffled_indxs = np.random.permutation(l)\n",
    "train_idxs = shuffled_indxs[:int(l * 0.7)]\n",
    "val_idxs = shuffled_indxs[int(l * 0.7):int(l * 0.8)]\n",
    "test_idxs = shuffled_indxs[int(l * 0.8):]\n",
    "\n",
    "train_vocab = Vocabulary()\n",
    "train_vocab.fit(itemgetter(*train_idxs)(sentences))\n",
    "\n",
    "train_dataset = MyDataset(itemgetter(*train_idxs)(sentences), vocab=train_vocab)\n",
    "val_dataset = MyDataset(itemgetter(*val_idxs)(sentences), vocab=train_vocab)\n",
    "test_dataset = MyDataset(itemgetter(*test_idxs)(sentences), vocab=train_vocab)\n",
    "\n",
    "print('train len', len(train_dataset))\n",
    "print('val len', len(val_dataset))\n",
    "print('test len', len(test_dataset))"
   ]
  },
  {
   "cell_type": "markdown",
   "metadata": {},
   "source": [
    "### Model"
   ]
  },
  {
   "cell_type": "code",
   "execution_count": 17,
   "metadata": {},
   "outputs": [],
   "source": [
    "class LanguageModel(Module):\n",
    "    \n",
    "    def __init__(self, vocab_size, emb_dim, hidden_dim, n_layers, dropout=0.5):\n",
    "        super().__init__()\n",
    "        self.hidden_dim = hidden_dim\n",
    "        self.n_layers = n_layers\n",
    "        \n",
    "        self.emb = Embedding(vocab_size, emb_dim)\n",
    "        self.gru = GRU(emb_dim, hidden_dim, num_layers=n_layers, dropout=dropout, batch_first=True)\n",
    "        self.fc = Linear(hidden_dim, vocab_size)\n",
    "        \n",
    "    def forward(self, x, lengths, h0):\n",
    "        emb = self.emb(x)\n",
    "#         print(emb.shape)\n",
    "        gru_in = emb\n",
    "#         print(gru_in.shape)\n",
    "        gru_in = pack_padded_sequence(emb, lengths, batch_first=True)\n",
    "        gru_out, gru_hidden = self.gru(gru_in, h0)\n",
    "        gru_out, _ = pad_packed_sequence(gru_out, batch_first=True)\n",
    "#         print(gru_out.shape)\n",
    "        scores = self.fc(gru_out)\n",
    "#         print(scores.shape)\n",
    "        return scores, gru_hidden\n",
    "    \n",
    "    def init_hidden(self, batch_size, device=None):\n",
    "        if device:\n",
    "            return torch.zeros(self.n_layers, batch_size, self.hidden_dim).to(device)\n",
    "        else:\n",
    "            return torch.zeros(self.n_layers, batch_size, self.hidden_dim)"
   ]
  },
  {
   "cell_type": "markdown",
   "metadata": {},
   "source": [
    "Check model implementation"
   ]
  },
  {
   "cell_type": "code",
   "execution_count": 18,
   "metadata": {},
   "outputs": [
    {
     "data": {
      "text/plain": [
       "LanguageModel(\n",
       "  (emb): Embedding(50000, 300)\n",
       "  (gru): GRU(300, 100, num_layers=2, batch_first=True, dropout=0.5)\n",
       "  (fc): Linear(in_features=100, out_features=50000, bias=True)\n",
       ")"
      ]
     },
     "execution_count": 18,
     "metadata": {},
     "output_type": "execute_result"
    }
   ],
   "source": [
    "model = LanguageModel(len(t.vocab), 300, 100, 2)\n",
    "model"
   ]
  },
  {
   "cell_type": "code",
   "execution_count": 19,
   "metadata": {},
   "outputs": [
    {
     "name": "stdout",
     "output_type": "stream",
     "text": [
      "tensor(10.8109, grad_fn=<NllLoss2DBackward>)\n"
     ]
    }
   ],
   "source": [
    "cr = torch.nn.CrossEntropyLoss()\n",
    "for (x, y), lengths in loader:\n",
    "    h0 = model.init_hidden(loader.batch_size)\n",
    "    pred, _ = model(x, lengths, h0)\n",
    "#     print(pred.shape, y.shape)\n",
    "    loss = cr(pred.permute(0,2,1), y)\n",
    "#     acc = accuracy(pred, y)\n",
    "    print(loss)\n",
    "    break"
   ]
  },
  {
   "cell_type": "markdown",
   "metadata": {},
   "source": [
    "Make train, eval functions"
   ]
  },
  {
   "cell_type": "code",
   "execution_count": 20,
   "metadata": {},
   "outputs": [],
   "source": [
    "def accuracy(pred, y):\n",
    "\n",
    "    pred_lbl = F.softmax(pred, dim=2).argmax(dim=2)\n",
    "    correct = (pred_lbl == y).float()\n",
    "    acc = torch.mean(correct.sum(dim=1) / correct.shape[1])\n",
    "    return acc\n",
    "\n",
    "def perplexity(pred):\n",
    "    \n",
    "    pred_probs = torch.max(F.softmax(pred, dim=2), dim=2)[0]\n",
    "    perplexity = torch.exp(-torch.mean(torch.log(pred_probs)))\n",
    "    return perplexity"
   ]
  },
  {
   "cell_type": "code",
   "execution_count": 24,
   "metadata": {},
   "outputs": [],
   "source": [
    "def save_model(model, optimizer, name):\n",
    "    torch.save({\n",
    "        'model_state_dict': model.state_dict(),\n",
    "        'optimizer_state_dict': optimizer.state_dict(),\n",
    "        'model_decription': str(model),\n",
    "        'train_vocab': train_vocab\n",
    "    }, name)\n",
    "\n",
    "def train(model, loader, criterion, optimizer, device):\n",
    "    model.to(device)\n",
    "    model.train()\n",
    "    \n",
    "    epoch_loss, epoch_acc, epoch_perp = 0, 0, 0\n",
    "    for (x, y), lengths in loader:\n",
    "        h0 = model.init_hidden(x.shape[0])\n",
    "        x, y, h0 = x.to(device), y.to(device), h0.to(device)\n",
    "\n",
    "        model.zero_grad()\n",
    "        out, h = model(x, lengths, h0)\n",
    "\n",
    "        loss = criterion(out.permute(0,2,1), y)\n",
    "        acc = accuracy(out, y)\n",
    "        perp = perplexity(out)\n",
    "        loss.backward()\n",
    "        torch.nn.utils.clip_grad_norm_(model.parameters(), 5)\n",
    "        optimizer.step()\n",
    "\n",
    "        epoch_loss += loss.item()\n",
    "        epoch_acc += acc.item()\n",
    "        epoch_perp += perp.item()\n",
    "        \n",
    "    return epoch_loss / len(loader), epoch_acc / len(loader), epoch_perp / len(loader)\n",
    "\n",
    "def evaluate(model, loader, criterion, device):\n",
    "    model.to(device)\n",
    "    model.eval()\n",
    "    \n",
    "    epoch_loss, epoch_acc, epoch_perp = 0, 0, 0\n",
    "    \n",
    "    with torch.no_grad():\n",
    "        for (x, y), lengths in loader:\n",
    "            h0 = model.init_hidden(x.shape[0])\n",
    "            x, y, h0 = x.to(device), y.to(device), h0.to(device)\n",
    "            \n",
    "            out, _ = model(x, lengths, h0)\n",
    "\n",
    "            loss = criterion(out.permute(0,2,1), y)\n",
    "            acc = accuracy(out, y)\n",
    "            perp = perplexity(out)\n",
    "            \n",
    "            epoch_loss += loss.item()\n",
    "            epoch_acc += acc.item()\n",
    "            epoch_perp += perp.item()\n",
    "            \n",
    "    return epoch_loss / len(loader), epoch_acc / len(loader), epoch_perp / len(loader)"
   ]
  },
  {
   "cell_type": "markdown",
   "metadata": {},
   "source": [
    "Train model"
   ]
  },
  {
   "cell_type": "code",
   "execution_count": 26,
   "metadata": {
    "scrolled": false
   },
   "outputs": [
    {
     "name": "stdout",
     "output_type": "stream",
     "text": [
      "1 | TRAIN loss: 9.6540, acc: 0.4000, perp: 3878.3890; VAL loss: 9.0664, acc: 0.6880, perp: 1622.7436\n",
      "2 | TRAIN loss: 8.9129, acc: 0.6844, perp: 1346.9217; VAL loss: 8.4764, acc: 0.6939, perp: 946.5124\n",
      "3 | TRAIN loss: 8.2850, acc: 0.6898, perp: 798.6739; VAL loss: 7.9304, acc: 0.6970, perp: 564.0427\n",
      "4 | TRAIN loss: 7.6777, acc: 0.6939, perp: 479.4010; VAL loss: 7.4097, acc: 0.6989, perp: 339.7322\n",
      "5 | TRAIN loss: 7.0844, acc: 0.6973, perp: 289.6778; VAL loss: 6.9062, acc: 0.7000, perp: 206.6346\n",
      "6 | TRAIN loss: 6.5026, acc: 0.7006, perp: 175.4918; VAL loss: 6.4154, acc: 0.7009, perp: 126.7327\n",
      "7 | TRAIN loss: 5.9308, acc: 0.7041, perp: 106.5972; VAL loss: 5.9347, acc: 0.7011, perp: 78.4482\n",
      "8 | TRAIN loss: 5.3692, acc: 0.7079, perp: 64.9932; VAL loss: 5.4621, acc: 0.7012, perp: 48.3533\n",
      "9 | TRAIN loss: 4.8182, acc: 0.7118, perp: 39.7497; VAL loss: 4.9974, acc: 0.7012, perp: 29.9794\n",
      "10 | TRAIN loss: 4.2784, acc: 0.7163, perp: 24.5145; VAL loss: 4.5479, acc: 0.7007, perp: 18.8682\n",
      "11 | TRAIN loss: 3.7597, acc: 0.7213, perp: 15.3199; VAL loss: 4.1201, acc: 0.7002, perp: 12.0394\n",
      "12 | TRAIN loss: 3.2708, acc: 0.7266, perp: 9.8210; VAL loss: 3.7300, acc: 0.6996, perp: 8.0360\n",
      "13 | TRAIN loss: 2.8321, acc: 0.7319, perp: 6.5822; VAL loss: 3.3939, acc: 0.6996, perp: 5.6048\n",
      "14 | TRAIN loss: 2.4633, acc: 0.7372, perp: 4.7064; VAL loss: 3.1295, acc: 0.6991, perp: 4.1646\n",
      "15 | TRAIN loss: 2.1729, acc: 0.7424, perp: 3.6284; VAL loss: 2.9413, acc: 0.6984, perp: 3.3311\n",
      "16 | TRAIN loss: 1.9574, acc: 0.7474, perp: 3.0067; VAL loss: 2.8183, acc: 0.6979, perp: 2.8712\n",
      "17 | TRAIN loss: 1.8012, acc: 0.7521, perp: 2.6343; VAL loss: 2.7436, acc: 0.6968, perp: 2.6536\n",
      "18 | TRAIN loss: 1.6836, acc: 0.7569, perp: 2.3991; VAL loss: 2.6952, acc: 0.6970, perp: 2.4191\n",
      "19 | TRAIN loss: 1.5955, acc: 0.7614, perp: 2.2432; VAL loss: 2.6686, acc: 0.6970, perp: 2.2662\n",
      "20 | TRAIN loss: 1.5290, acc: 0.7651, perp: 2.1336; VAL loss: 2.6631, acc: 0.6941, perp: 2.2925\n",
      "21 | TRAIN loss: 1.4799, acc: 0.7681, perp: 2.0552; VAL loss: 2.6585, acc: 0.6937, perp: 2.2289\n",
      "22 | TRAIN loss: 1.4295, acc: 0.7724, perp: 1.9904; VAL loss: 2.6551, acc: 0.6948, perp: 2.1113\n",
      "23 | TRAIN loss: 1.3880, acc: 0.7762, perp: 1.9389; VAL loss: 2.6626, acc: 0.6939, perp: 2.0777\n",
      "24 | TRAIN loss: 1.3559, acc: 0.7791, perp: 1.8978; VAL loss: 2.6775, acc: 0.6925, perp: 2.0855\n",
      "25 | TRAIN loss: 1.3263, acc: 0.7821, perp: 1.8642; VAL loss: 2.6869, acc: 0.6926, perp: 2.0393\n",
      "26 | TRAIN loss: 1.3015, acc: 0.7847, perp: 1.8353; VAL loss: 2.6963, acc: 0.6930, perp: 1.9848\n",
      "27 | TRAIN loss: 1.2789, acc: 0.7873, perp: 1.8103; VAL loss: 2.7116, acc: 0.6925, perp: 1.9707\n",
      "28 | TRAIN loss: 1.2560, acc: 0.7900, perp: 1.7872; VAL loss: 2.7251, acc: 0.6920, perp: 1.9473\n",
      "29 | TRAIN loss: 1.2361, acc: 0.7924, perp: 1.7675; VAL loss: 2.7391, acc: 0.6924, perp: 1.9087\n",
      "30 | TRAIN loss: 1.2176, acc: 0.7948, perp: 1.7498; VAL loss: 2.7550, acc: 0.6923, perp: 1.8831\n",
      "31 | TRAIN loss: 1.2017, acc: 0.7968, perp: 1.7341; VAL loss: 2.7721, acc: 0.6917, perp: 1.8803\n",
      "32 | TRAIN loss: 1.1868, acc: 0.7987, perp: 1.7201; VAL loss: 2.7891, acc: 0.6910, perp: 1.8777\n",
      "33 | TRAIN loss: 1.1728, acc: 0.8007, perp: 1.7067; VAL loss: 2.8058, acc: 0.6903, perp: 1.8804\n",
      "34 | TRAIN loss: 1.1595, acc: 0.8024, perp: 1.6946; VAL loss: 2.8197, acc: 0.6902, perp: 1.8589\n",
      "35 | TRAIN loss: 1.1487, acc: 0.8039, perp: 1.6843; VAL loss: 2.8351, acc: 0.6902, perp: 1.8557\n",
      "36 | TRAIN loss: 1.1371, acc: 0.8056, perp: 1.6739; VAL loss: 2.8497, acc: 0.6901, perp: 1.8379\n",
      "37 | TRAIN loss: 1.1276, acc: 0.8068, perp: 1.6646; VAL loss: 2.8666, acc: 0.6894, perp: 1.8451\n",
      "38 | TRAIN loss: 1.1188, acc: 0.8080, perp: 1.6568; VAL loss: 2.8781, acc: 0.6895, perp: 1.8197\n",
      "39 | TRAIN loss: 1.1101, acc: 0.8092, perp: 1.6484; VAL loss: 2.8922, acc: 0.6896, perp: 1.8081\n",
      "40 | TRAIN loss: 1.1016, acc: 0.8103, perp: 1.6409; VAL loss: 2.9066, acc: 0.6893, perp: 1.8071\n",
      "41 | TRAIN loss: 1.0923, acc: 0.8117, perp: 1.6339; VAL loss: 2.9223, acc: 0.6892, perp: 1.7945\n",
      "42 | TRAIN loss: 1.0846, acc: 0.8129, perp: 1.6271; VAL loss: 2.9347, acc: 0.6886, perp: 1.7932\n",
      "43 | TRAIN loss: 1.0772, acc: 0.8139, perp: 1.6204; VAL loss: 2.9485, acc: 0.6886, perp: 1.7871\n",
      "44 | TRAIN loss: 1.0688, acc: 0.8151, perp: 1.6139; VAL loss: 2.9612, acc: 0.6887, perp: 1.7783\n",
      "45 | TRAIN loss: 1.0627, acc: 0.8160, perp: 1.6081; VAL loss: 2.9746, acc: 0.6889, perp: 1.7661\n",
      "46 | TRAIN loss: 1.0552, acc: 0.8171, perp: 1.6025; VAL loss: 2.9888, acc: 0.6887, perp: 1.7590\n"
     ]
    },
    {
     "ename": "KeyboardInterrupt",
     "evalue": "",
     "output_type": "error",
     "traceback": [
      "\u001b[0;31m---------------------------------------------------------------------------\u001b[0m",
      "\u001b[0;31mKeyboardInterrupt\u001b[0m                         Traceback (most recent call last)",
      "\u001b[0;32m<ipython-input-26-c89c604b4d36>\u001b[0m in \u001b[0;36m<module>\u001b[0;34m\u001b[0m\n\u001b[1;32m     18\u001b[0m \u001b[0;32mfor\u001b[0m \u001b[0mepoch\u001b[0m \u001b[0;32min\u001b[0m \u001b[0mrange\u001b[0m\u001b[0;34m(\u001b[0m\u001b[0mEPOCHS\u001b[0m\u001b[0;34m)\u001b[0m\u001b[0;34m:\u001b[0m\u001b[0;34m\u001b[0m\u001b[0;34m\u001b[0m\u001b[0m\n\u001b[1;32m     19\u001b[0m \u001b[0;34m\u001b[0m\u001b[0m\n\u001b[0;32m---> 20\u001b[0;31m     \u001b[0mtrain_loss\u001b[0m\u001b[0;34m,\u001b[0m \u001b[0mtrain_acc\u001b[0m\u001b[0;34m,\u001b[0m \u001b[0mtrain_perp\u001b[0m \u001b[0;34m=\u001b[0m \u001b[0mtrain\u001b[0m\u001b[0;34m(\u001b[0m\u001b[0mmodel\u001b[0m\u001b[0;34m,\u001b[0m \u001b[0mtrain_loader\u001b[0m\u001b[0;34m,\u001b[0m \u001b[0mcriterion\u001b[0m\u001b[0;34m,\u001b[0m \u001b[0moptim\u001b[0m\u001b[0;34m,\u001b[0m \u001b[0mdevice\u001b[0m\u001b[0;34m)\u001b[0m\u001b[0;34m\u001b[0m\u001b[0;34m\u001b[0m\u001b[0m\n\u001b[0m\u001b[1;32m     21\u001b[0m     \u001b[0mval_loss\u001b[0m\u001b[0;34m,\u001b[0m \u001b[0mval_acc\u001b[0m\u001b[0;34m,\u001b[0m \u001b[0mval_perp\u001b[0m \u001b[0;34m=\u001b[0m \u001b[0mevaluate\u001b[0m\u001b[0;34m(\u001b[0m\u001b[0mmodel\u001b[0m\u001b[0;34m,\u001b[0m \u001b[0mval_loader\u001b[0m\u001b[0;34m,\u001b[0m \u001b[0mcriterion\u001b[0m\u001b[0;34m,\u001b[0m \u001b[0mdevice\u001b[0m\u001b[0;34m)\u001b[0m\u001b[0;34m\u001b[0m\u001b[0;34m\u001b[0m\u001b[0m\n\u001b[1;32m     22\u001b[0m \u001b[0;34m\u001b[0m\u001b[0m\n",
      "\u001b[0;32m<ipython-input-24-0bdeb6a87c3d>\u001b[0m in \u001b[0;36mtrain\u001b[0;34m(model, loader, criterion, optimizer, device)\u001b[0m\n\u001b[1;32m     22\u001b[0m         \u001b[0macc\u001b[0m \u001b[0;34m=\u001b[0m \u001b[0maccuracy\u001b[0m\u001b[0;34m(\u001b[0m\u001b[0mout\u001b[0m\u001b[0;34m,\u001b[0m \u001b[0my\u001b[0m\u001b[0;34m)\u001b[0m\u001b[0;34m\u001b[0m\u001b[0;34m\u001b[0m\u001b[0m\n\u001b[1;32m     23\u001b[0m         \u001b[0mperp\u001b[0m \u001b[0;34m=\u001b[0m \u001b[0mperplexity\u001b[0m\u001b[0;34m(\u001b[0m\u001b[0mout\u001b[0m\u001b[0;34m)\u001b[0m\u001b[0;34m\u001b[0m\u001b[0;34m\u001b[0m\u001b[0m\n\u001b[0;32m---> 24\u001b[0;31m         \u001b[0mloss\u001b[0m\u001b[0;34m.\u001b[0m\u001b[0mbackward\u001b[0m\u001b[0;34m(\u001b[0m\u001b[0;34m)\u001b[0m\u001b[0;34m\u001b[0m\u001b[0;34m\u001b[0m\u001b[0m\n\u001b[0m\u001b[1;32m     25\u001b[0m         \u001b[0mtorch\u001b[0m\u001b[0;34m.\u001b[0m\u001b[0mnn\u001b[0m\u001b[0;34m.\u001b[0m\u001b[0mutils\u001b[0m\u001b[0;34m.\u001b[0m\u001b[0mclip_grad_norm_\u001b[0m\u001b[0;34m(\u001b[0m\u001b[0mmodel\u001b[0m\u001b[0;34m.\u001b[0m\u001b[0mparameters\u001b[0m\u001b[0;34m(\u001b[0m\u001b[0;34m)\u001b[0m\u001b[0;34m,\u001b[0m \u001b[0;36m5\u001b[0m\u001b[0;34m)\u001b[0m\u001b[0;34m\u001b[0m\u001b[0;34m\u001b[0m\u001b[0m\n\u001b[1;32m     26\u001b[0m         \u001b[0moptimizer\u001b[0m\u001b[0;34m.\u001b[0m\u001b[0mstep\u001b[0m\u001b[0;34m(\u001b[0m\u001b[0;34m)\u001b[0m\u001b[0;34m\u001b[0m\u001b[0;34m\u001b[0m\u001b[0m\n",
      "\u001b[0;32m~/.local/lib/python3.6/site-packages/torch/tensor.py\u001b[0m in \u001b[0;36mbackward\u001b[0;34m(self, gradient, retain_graph, create_graph)\u001b[0m\n\u001b[1;32m    100\u001b[0m                 \u001b[0mproducts\u001b[0m\u001b[0;34m.\u001b[0m \u001b[0mDefaults\u001b[0m \u001b[0mto\u001b[0m\u001b[0;31m \u001b[0m\u001b[0;31m`\u001b[0m\u001b[0;31m`\u001b[0m\u001b[0;32mFalse\u001b[0m\u001b[0;31m`\u001b[0m\u001b[0;31m`\u001b[0m\u001b[0;34m.\u001b[0m\u001b[0;34m\u001b[0m\u001b[0;34m\u001b[0m\u001b[0m\n\u001b[1;32m    101\u001b[0m         \"\"\"\n\u001b[0;32m--> 102\u001b[0;31m         \u001b[0mtorch\u001b[0m\u001b[0;34m.\u001b[0m\u001b[0mautograd\u001b[0m\u001b[0;34m.\u001b[0m\u001b[0mbackward\u001b[0m\u001b[0;34m(\u001b[0m\u001b[0mself\u001b[0m\u001b[0;34m,\u001b[0m \u001b[0mgradient\u001b[0m\u001b[0;34m,\u001b[0m \u001b[0mretain_graph\u001b[0m\u001b[0;34m,\u001b[0m \u001b[0mcreate_graph\u001b[0m\u001b[0;34m)\u001b[0m\u001b[0;34m\u001b[0m\u001b[0;34m\u001b[0m\u001b[0m\n\u001b[0m\u001b[1;32m    103\u001b[0m \u001b[0;34m\u001b[0m\u001b[0m\n\u001b[1;32m    104\u001b[0m     \u001b[0;32mdef\u001b[0m \u001b[0mregister_hook\u001b[0m\u001b[0;34m(\u001b[0m\u001b[0mself\u001b[0m\u001b[0;34m,\u001b[0m \u001b[0mhook\u001b[0m\u001b[0;34m)\u001b[0m\u001b[0;34m:\u001b[0m\u001b[0;34m\u001b[0m\u001b[0;34m\u001b[0m\u001b[0m\n",
      "\u001b[0;32m~/.local/lib/python3.6/site-packages/torch/autograd/__init__.py\u001b[0m in \u001b[0;36mbackward\u001b[0;34m(tensors, grad_tensors, retain_graph, create_graph, grad_variables)\u001b[0m\n\u001b[1;32m     88\u001b[0m     Variable._execution_engine.run_backward(\n\u001b[1;32m     89\u001b[0m         \u001b[0mtensors\u001b[0m\u001b[0;34m,\u001b[0m \u001b[0mgrad_tensors\u001b[0m\u001b[0;34m,\u001b[0m \u001b[0mretain_graph\u001b[0m\u001b[0;34m,\u001b[0m \u001b[0mcreate_graph\u001b[0m\u001b[0;34m,\u001b[0m\u001b[0;34m\u001b[0m\u001b[0;34m\u001b[0m\u001b[0m\n\u001b[0;32m---> 90\u001b[0;31m         allow_unreachable=True)  # allow_unreachable flag\n\u001b[0m\u001b[1;32m     91\u001b[0m \u001b[0;34m\u001b[0m\u001b[0m\n\u001b[1;32m     92\u001b[0m \u001b[0;34m\u001b[0m\u001b[0m\n",
      "\u001b[0;31mKeyboardInterrupt\u001b[0m: "
     ]
    }
   ],
   "source": [
    "EMB_DIM = 200\n",
    "HIDDEN_DIM = 100\n",
    "N_LAYERS = 1\n",
    "DROPOUT = 0.5\n",
    "BATCH_S = 80\n",
    "EPOCHS = 150\n",
    "\n",
    "train_loader = DataLoader(train_dataset, BATCH_S, collate_fn=pad_batch, num_workers=4)\n",
    "val_loader = DataLoader(val_dataset, BATCH_S, collate_fn=pad_batch, num_workers=4)\n",
    "voc_len = len(train_dataset.vocab)\n",
    "device = torch.device('cuda:1')\n",
    "\n",
    "model = LanguageModel(voc_len, EMB_DIM, HIDDEN_DIM, N_LAYERS, DROPOUT)\n",
    "optim = torch.optim.Adam(model.parameters())\n",
    "criterion = torch.nn.CrossEntropyLoss()\n",
    "\n",
    "best_val_loss = np.inf\n",
    "for epoch in range(EPOCHS):\n",
    "    \n",
    "    train_loss, train_acc, train_perp = train(model, train_loader, criterion, optim, device)\n",
    "    val_loss, val_acc, val_perp = evaluate(model, val_loader, criterion, device)\n",
    "    \n",
    "    if val_loss < best_val_loss:\n",
    "        save_model(model, optim, 'LM.pt')\n",
    "        \n",
    "    print('{} | TRAIN loss: {:.4f}, acc: {:.4f}, perp: {:.4f}; VAL loss: {:.4f}, acc: {:.4f}, perp: {:.4f}'.\n",
    "             format(epoch + 1, train_loss, train_acc, train_perp, val_loss, val_acc, val_perp))\n",
    "    "
   ]
  },
  {
   "cell_type": "code",
   "execution_count": null,
   "metadata": {},
   "outputs": [],
   "source": [
    "import gc\n",
    "del model\n",
    "gc.collect()\n",
    "torch.cuda.empty_cache()"
   ]
  },
  {
   "cell_type": "code",
   "execution_count": null,
   "metadata": {},
   "outputs": [],
   "source": []
  },
  {
   "cell_type": "code",
   "execution_count": null,
   "metadata": {},
   "outputs": [],
   "source": [
    "def pretty_size(size):\n",
    "\t\"\"\"Pretty prints a torch.Size object\"\"\"\n",
    "\tassert(isinstance(size, torch.Size))\n",
    "\treturn \" × \".join(map(str, size))\n",
    "\n",
    "def dump_tensors(gpu_only=True):\n",
    "\t\"\"\"Prints a list of the Tensors being tracked by the garbage collector.\"\"\"\n",
    "\timport gc\n",
    "\ttotal_size = 0\n",
    "\tfor obj in gc.get_objects():\n",
    "\t\ttry:\n",
    "\t\t\tif torch.is_tensor(obj):\n",
    "\t\t\t\tif not gpu_only or obj.is_cuda:\n",
    "\t\t\t\t\tprint(\"%s:%s%s %s\" % (type(obj).__name__, \n",
    "\t\t\t\t\t\t\t\t\t\t  \" GPU\" if obj.is_cuda else \"\",\n",
    "\t\t\t\t\t\t\t\t\t\t  \" pinned\" if obj.is_pinned else \"\",\n",
    "\t\t\t\t\t\t\t\t\t\t  pretty_size(obj.size())))\n",
    "\t\t\t\t\ttotal_size += obj.numel()\n",
    "\t\t\telif hasattr(obj, \"data\") and torch.is_tensor(obj.data):\n",
    "\t\t\t\tif not gpu_only or obj.is_cuda:\n",
    "\t\t\t\t\tprint(\"%s → %s:%s%s%s%s %s\" % (type(obj).__name__, \n",
    "\t\t\t\t\t\t\t\t\t\t\t\t   type(obj.data).__name__, \n",
    "\t\t\t\t\t\t\t\t\t\t\t\t   \" GPU\" if obj.is_cuda else \"\",\n",
    "\t\t\t\t\t\t\t\t\t\t\t\t   \" pinned\" if obj.data.is_pinned else \"\",\n",
    "\t\t\t\t\t\t\t\t\t\t\t\t   \" grad\" if obj.requires_grad else \"\", \n",
    "\t\t\t\t\t\t\t\t\t\t\t\t   \" volatile\" if obj.volatile else \"\",\n",
    "\t\t\t\t\t\t\t\t\t\t\t\t   pretty_size(obj.data.size())))\n",
    "\t\t\t\t\ttotal_size += obj.data.numel()\n",
    "\t\texcept Exception as e:\n",
    "\t\t\tpass        \n",
    "\tprint(\"Total size:\", total_size)"
   ]
  },
  {
   "cell_type": "code",
   "execution_count": null,
   "metadata": {},
   "outputs": [],
   "source": [
    "dump_tensors()"
   ]
  },
  {
   "cell_type": "code",
   "execution_count": null,
   "metadata": {},
   "outputs": [],
   "source": [
    "torch.cuda.empty_cache()"
   ]
  }
 ],
 "metadata": {
  "kernelspec": {
   "display_name": "Python 3",
   "language": "python",
   "name": "python3"
  },
  "language_info": {
   "codemirror_mode": {
    "name": "ipython",
    "version": 3
   },
   "file_extension": ".py",
   "mimetype": "text/x-python",
   "name": "python",
   "nbconvert_exporter": "python",
   "pygments_lexer": "ipython3",
   "version": "3.6.7"
  },
  "varInspector": {
   "cols": {
    "lenName": 16,
    "lenType": 16,
    "lenVar": 40
   },
   "kernels_config": {
    "python": {
     "delete_cmd_postfix": "",
     "delete_cmd_prefix": "del ",
     "library": "var_list.py",
     "varRefreshCmd": "print(var_dic_list())"
    },
    "r": {
     "delete_cmd_postfix": ") ",
     "delete_cmd_prefix": "rm(",
     "library": "var_list.r",
     "varRefreshCmd": "cat(var_dic_list()) "
    }
   },
   "position": {
    "height": "318.212px",
    "left": "1688.89px",
    "right": "20px",
    "top": "111px",
    "width": "350px"
   },
   "types_to_exclude": [
    "module",
    "function",
    "builtin_function_or_method",
    "instance",
    "_Feature"
   ],
   "window_display": false
  }
 },
 "nbformat": 4,
 "nbformat_minor": 2
}
